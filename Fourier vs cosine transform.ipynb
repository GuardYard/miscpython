{
 "cells": [
  {
   "cell_type": "markdown",
   "metadata": {},
   "source": [
    "# Fourier vs cosine transform\n",
    "One of the problems (or features) of the fourier transform is that it treats the edges of data as if they were repeated infinitely. This can cause problems, for example when blurring, where having a bright edge on one side of the image shouldn't affect the blurring on the other. On the other hand, the cosine transform treats the edges of data as being symmetric. Can we use the cosine transform for fast, effecient, artefact free gaussian blurring?"
   ]
  },
  {
   "cell_type": "markdown",
   "metadata": {},
   "source": [
    "# Setup"
   ]
  },
  {
   "cell_type": "code",
   "execution_count": 60,
   "metadata": {
    "collapsed": false
   },
   "outputs": [],
   "source": [
    "import numpy as np\n",
    "# on my mac anaconda 3.5 has cv2 - (although I thought that wasn't supported)\n",
    "import cv2\n",
    "import scipy.misc\n",
    "import matplotlib.pyplot as plt\n",
    "from functools import reduce\n",
    "from scipy.fftpack import dct, idct\n",
    "from PIL import Image\n",
    "%matplotlib inline\n",
    "plt.rcParams['image.cmap'] = 'gray'"
   ]
  },
  {
   "cell_type": "code",
   "execution_count": 84,
   "metadata": {
    "collapsed": false
   },
   "outputs": [],
   "source": [
    "src = scipy.misc.face()[..., 0]\n",
    "src_h, src_w = src.shape\n",
    "src = (src * np.indices(src.shape)[1] / src.shape[1]).astype(np.uint8)\n",
    "plt.imshow(src)\n",
    "Image.fromarray(src).save('src.png')"
   ]
  },
  {
   "cell_type": "code",
   "execution_count": 85,
   "metadata": {
    "collapsed": false
   },
   "outputs": [],
   "source": [
    "def gaussian_quadrant(shape, sds):\n",
    "    \"\"\"\n",
    "    Return a gaussian of the given shape, with the given standard deviations.\n",
    "    Treats 0,0 as origin\n",
    "    \"\"\"\n",
    "    return reduce(np.multiply, \n",
    "                  (np.exp(-dx**2 / (2*sd**2)) \n",
    "                   for sd, dx in zip(sds, np.indices(shape))))\n",
    "\n",
    "def mirror_image(im):\n",
    "    \"\"\"\n",
    "    Takes an image A, and mirrors in x and y\n",
    "    \"\"\"\n",
    "    out = im\n",
    "    left = np.vstack([im, im[::-1, :]])\n",
    "    return np.hstack([left, left[:, ::-1]])\n",
    "\n",
    "def gaussian_blur_cv2_dft(im, amount):\n",
    "    # gaussian blur using dft\n",
    "    h, w = im.shape\n",
    "    quarter_gauss = gaussian_quadrant([h//2, w//2], \n",
    "                                      [h/(2*np.pi*amount), w/(2*np.pi*amount)])\n",
    "    full_gauss = mirror_image(quarter_gauss)\n",
    "    #print(full_gauss.shape)\n",
    "    Fsrc = cv2.dft(im.astype(float), None, cv2.DFT_COMPLEX_OUTPUT)\n",
    "    Fsrc[..., 0] *= full_gauss\n",
    "    Fsrc[..., 1] *= full_gauss\n",
    "    inv = cv2.dft(Fsrc, None, cv2.DFT_INVERSE | cv2.DFT_REAL_OUTPUT | cv2.DFT_SCALE)\n",
    "    return inv.astype(im.dtype)\n",
    "\n",
    "def gaussian_blur_cv2_dct(im, amount):\n",
    "    # gaussian blur using cv2 dct\n",
    "    h, w = im.shape\n",
    "    gaussian = gaussian_quadrant([h, w], \n",
    "                                 [h/(np.pi*amount), w/(np.pi*amount)])\n",
    "    Fsrc = cv2.dct(im.astype(float))\n",
    "    Fsrc *= gaussian\n",
    "    #Fsrc[..., 1] *= full_gauss\n",
    "    inv = cv2.dct(Fsrc, None, cv2.DCT_INVERSE)\n",
    "    return inv.astype(im.dtype)\n",
    "\n",
    "def gaussian_blur_scipy_dct(im, amount, dct_type=2):\n",
    "    # gaussian blur using scipy dctcv2 dct\n",
    "    h, w = im.shape\n",
    "    gaussian = gaussian_quadrant([h, w], \n",
    "                                 [h/(np.pi*amount), w/(np.pi*amount)])\n",
    "    # dct is 1D only, so have to apply to both axes\n",
    "    Fsrc = dct(dct(src, axis=0, type=dct_type), axis=1, type=dct_type)\n",
    "    Fsrc *= gaussian\n",
    "    #Fsrc[..., 1] *= full_gauss\n",
    "    inv = idct(idct(Fsrc, axis=1, type=dct_type), axis=0, type=dct_type)\n",
    "    #return inv.astype(im.dtype)\n",
    "    return (inv/w/h/2/2).astype(im.dtype)"
   ]
  },
  {
   "cell_type": "markdown",
   "metadata": {},
   "source": [
    "# The Problem\n",
    "Notice how in the blurred image below there are bright areas on the left hand side."
   ]
  },
  {
   "cell_type": "code",
   "execution_count": 87,
   "metadata": {
    "collapsed": false
   },
   "outputs": [],
   "source": [
    "blur_amount = 50\n",
    "dft_blur = gaussian_blur(src, blur_amount)\n",
    "plt.imshow(dft_blur)    \n",
    "Image.fromarray(dft_blur*2).save('dft_blur.png')"
   ]
  },
  {
   "cell_type": "markdown",
   "metadata": {},
   "source": [
    "# Solution #1\n",
    "More data.\n",
    "\n",
    "If we mirror the src, blur, then crop, we can solve the problem. But this uses 4x the data!"
   ]
  },
  {
   "cell_type": "code",
   "execution_count": 98,
   "metadata": {
    "collapsed": false
   },
   "outputs": [],
   "source": [
    "src_h, src_w = src.shape\n",
    "src_x4 = mirror_image(src)\n",
    "dft_x4_blur = gaussian_blur_cv2_dft(src_x4, blur_amount)\n",
    "dft_x4_blur_cropped = dft_x4_blur[:src_h, :src_w]\n",
    "plt.imshow(dft_x4_blur_cropped)\n",
    "#Image.fromarray(dft_x4_blur_cropped*2).save('dft_x4_blur_cropped.png')"
   ]
  },
  {
   "cell_type": "markdown",
   "metadata": {},
   "source": [
    "# Try #2 - opencv dct\n",
    "Cosine transform instead.\n",
    "\n",
    "See [wikipedia][1] page on dcts... looks like we need a dct1 to perform proper convolution? But this does appear to work!\n",
    "\n",
    "[1]:https://en.wikipedia.org/wiki/Symmetric_convolution\n"
   ]
  },
  {
   "cell_type": "code",
   "execution_count": 101,
   "metadata": {
    "collapsed": false
   },
   "outputs": [],
   "source": [
    "dct_blur = gaussian_blur_cv2_dct(src, blur_amount)\n",
    "plt.imshow(dct_blur) \n",
    "Image.fromarray(dct_blur*2).save('dct_blur.png')"
   ]
  },
  {
   "cell_type": "code",
   "execution_count": 44,
   "metadata": {
    "collapsed": false
   },
   "outputs": [],
   "source": [
    "dct_x4_blur = gaussian_blur_dct(src_x4, blur_amount)\n",
    "dct_x4_blur_cropped = dct_x4_blur[:src_h, :src_w]\n",
    "plt.imshow(dct_x4_blur_cropped)"
   ]
  },
  {
   "cell_type": "code",
   "execution_count": 45,
   "metadata": {
    "collapsed": false
   },
   "outputs": [],
   "source": [
    "src.mean(), dct_blur.mean(), dft_blur.mean(), dft_x4_blur_cropped.mean(), dct_x4_blur_cropped.mean()"
   ]
  },
  {
   "cell_type": "code",
   "execution_count": 46,
   "metadata": {
    "collapsed": false
   },
   "outputs": [],
   "source": [
    "plt.imshow(dct_x4_blur_cropped.astype(float) - dft_x4_blur_cropped.astype(float), vmin=-2, vmax=2)"
   ]
  },
  {
   "cell_type": "markdown",
   "metadata": {
    "collapsed": true
   },
   "source": [
    "# Try #3 - scipy dct\n",
    "Scipy has `scipy.fftpack.dct` which takes a type of 1,2 or 3. With the default (type 2) we don't see the same artefacts as with the opncv dct. Also, the returned image is scaled incorrectly...\n",
    "\n",
    "So why does scipy dct type 2 work, but open CV doesn't? \n",
    "We get correct scale by dividing `idct(dct(x))` by `width * 2 * height * 2`\n",
    "\n",
    "From docs, open cv dct uses \n",
    "... cos(\u03c0(2k+1)j / 2N)\n",
    "\n",
    "scipy uses\n",
    "cos(pi*k*(2n+1)/(2N))"
   ]
  },
  {
   "cell_type": "code",
   "execution_count": 47,
   "metadata": {
    "collapsed": false
   },
   "outputs": [],
   "source": [
    "dct_blur = gaussian_blur_scipy_dct(src, blur_amount, 2)\n",
    "plt.imshow(dct_blur) "
   ]
  },
  {
   "cell_type": "markdown",
   "metadata": {},
   "source": [
    "## opencv vs scipy dct comparison"
   ]
  },
  {
   "cell_type": "code",
   "execution_count": 48,
   "metadata": {
    "collapsed": false
   },
   "outputs": [],
   "source": [
    "# 1d case, 1x32\n",
    "row_25 = src[25][:32]\n",
    "assert row_25.shape == (32,)\n",
    "print(\"Row 25 mean = {}\".format(row_25.mean()))\n",
    "idct(dct(row_25.astype(float))).mean()/1024/2"
   ]
  },
  {
   "cell_type": "code",
   "execution_count": 49,
   "metadata": {
    "collapsed": false
   },
   "outputs": [],
   "source": [
    "plt.plot(dct(row_25, norm='ortho'))\n",
    "plt.plot(cv2.dct(row_25.astype(float)))"
   ]
  },
  {
   "cell_type": "markdown",
   "metadata": {},
   "source": [
    "So this looks identical in the 1-d case. What about a 32x2 2d case?"
   ]
  },
  {
   "cell_type": "code",
   "execution_count": 50,
   "metadata": {
    "collapsed": true
   },
   "outputs": [],
   "source": [
    "def scipy_2d_dct(im, dct_type=2):\n",
    "    return dct(dct(im, axis=0, type=dct_type, norm='ortho'), axis=1, type=dct_type, norm='ortho')\n",
    "    \n",
    "srcim = src[25:27][..., :32]\n",
    "assert srcim.shape == (2, 32)"
   ]
  },
  {
   "cell_type": "code",
   "execution_count": 51,
   "metadata": {
    "collapsed": false
   },
   "outputs": [],
   "source": [
    "plt.plot(scipy_2d_dct(srcim)[0])\n",
    "plt.plot(cv2.dct(srcim.astype(float))[0])\n",
    "plt.figure()\n",
    "plt.plot(scipy_2d_dct(srcim)[1])\n",
    "plt.plot(cv2.dct(srcim.astype(float))[1])\n"
   ]
  },
  {
   "cell_type": "markdown",
   "metadata": {},
   "source": [
    "# Speed comparisons"
   ]
  },
  {
   "cell_type": "code",
   "execution_count": 52,
   "metadata": {
    "collapsed": false
   },
   "outputs": [],
   "source": [
    "%%timeit\n",
    "dft_blur = gaussian_blur(src, blur_amount)"
   ]
  },
  {
   "cell_type": "code",
   "execution_count": 53,
   "metadata": {
    "collapsed": false
   },
   "outputs": [],
   "source": [
    "%%timeit\n",
    "src_x4 = mirror_image(src)\n",
    "dft_x4_blur = gaussian_blur(src_x4, blur_amount)\n",
    "dft_x4_blur_cropped = dft_x4_blur[:src_h, :src_w]"
   ]
  },
  {
   "cell_type": "code",
   "execution_count": 54,
   "metadata": {
    "collapsed": false
   },
   "outputs": [],
   "source": [
    "%%timeit\n",
    "dct_blur = gaussian_blur_dct(src, blur_amount)"
   ]
  },
  {
   "cell_type": "code",
   "execution_count": 55,
   "metadata": {
    "collapsed": false
   },
   "outputs": [],
   "source": [
    "%%timeit\n",
    "dct_blur = gaussian_blur_scipy_dct(src, blur_amount, 2)"
   ]
  },
  {
   "cell_type": "markdown",
   "metadata": {},
   "source": [
    "# Some images for the blog"
   ]
  },
  {
   "cell_type": "code",
   "execution_count": 91,
   "metadata": {
    "collapsed": false
   },
   "outputs": [],
   "source": [
    "def tile(im):\n",
    "    h,w = im.shape\n",
    "    ret = np.zeros((h*2, w*2), dtype=im.dtype)\n",
    "    for x in [0, w]:\n",
    "        for y in [0,h]:\n",
    "            ret[y:y+h,x:x+w] = im\n",
    "    return ret\n",
    "Image.fromarray(tile(src)).save('src_tiled.png')"
   ]
  },
  {
   "cell_type": "code",
   "execution_count": 92,
   "metadata": {
    "collapsed": true
   },
   "outputs": [],
   "source": [
    "Image.fromarray(src_x4).save('src_mirrored.png')"
   ]
  },
  {
   "cell_type": "code",
   "execution_count": null,
   "metadata": {
    "collapsed": true
   },
   "outputs": [],
   "source": []
  }
 ],
 "metadata": {
  "anaconda-cloud": {},
  "kernelspec": {
   "display_name": "Python [Root]",
   "language": "python",
   "name": "Python [Root]"
  },
  "language_info": {
   "codemirror_mode": {
    "name": "ipython",
    "version": 3
   },
   "file_extension": ".py",
   "mimetype": "text/x-python",
   "name": "python",
   "nbconvert_exporter": "python",
   "pygments_lexer": "ipython3",
   "version": "3.5.2"
  }
 },
 "nbformat": 4,
 "nbformat_minor": 0
}