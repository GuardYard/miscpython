{
 "cells": [
  {
   "cell_type": "code",
   "execution_count": 26,
   "metadata": {
    "collapsed": false
   },
   "outputs": [],
   "source": [
    "from __future__ import print_function, division\n",
    "import numpy as np\n",
    "import random\n",
    "import math\n",
    "%matplotlib inline\n",
    "import matplotlib.pyplot as plt\n",
    "fft = np.fft.fft\n",
    "ifft = np.fft.ifft"
   ]
  },
  {
   "cell_type": "markdown",
   "metadata": {},
   "source": [
    "Pascal's triangle can be thought of as a convlution of (1,1) repeatedly.\n",
    "\n",
    "We can perform this convolution as multiplication in Fourier space"
   ]
  },
  {
   "cell_type": "code",
   "execution_count": 3,
   "metadata": {
    "collapsed": true
   },
   "outputs": [],
   "source": [
    "def pascal_row(n):\n",
    "    x = [1,1] + [0] * (n-1)\n",
    "    fx = fft(x)\n",
    "    return np.round(ifft(fx ** n).real)"
   ]
  },
  {
   "cell_type": "code",
   "execution_count": 4,
   "metadata": {
    "collapsed": false
   },
   "outputs": [
    {
     "name": "stdout",
     "output_type": "stream",
     "text": [
      "[ 1.  0.]\n",
      "[ 1.  1.]\n",
      "[ 1.  2.  1.]\n",
      "[ 1.  3.  3.  1.]\n",
      "[ 1.  4.  6.  4.  1.]\n",
      "[  1.   5.  10.  10.   5.   1.]\n",
      "[  1.   6.  15.  20.  15.   6.   1.]\n",
      "[  1.   7.  21.  35.  35.  21.   7.   1.]\n",
      "[  1.   8.  28.  56.  70.  56.  28.   8.   1.]\n",
      "[   1.    9.   36.   84.  126.  126.   84.   36.    9.    1.]\n"
     ]
    }
   ],
   "source": [
    "for i in range(10):\n",
    "    print(pascal_row(i))"
   ]
  },
  {
   "cell_type": "markdown",
   "metadata": {},
   "source": [
    "Wikipedia mentions alternating values for a row can be found by fourier transformin sin(x) ^ n / x. Our step function is this convoluted by fft([0,....,0, 1]), ie the nyquist frequency, [1,-1,1,-1...]"
   ]
  },
  {
   "cell_type": "markdown",
   "metadata": {},
   "source": [
    "Problem is that a top-hat function symmetrical about x=0 needs an odd-number of points - it's hard to make an even width top hat funcion (what values can the top hat be over to be a symmetric function? eg [1,0.5,0,...,0.5] is symmetric about origin, but [1,1,0,...] isn't and neither is [1,0,0..., 0, 1])"
   ]
  },
  {
   "cell_type": "code",
   "execution_count": 5,
   "metadata": {
    "collapsed": false
   },
   "outputs": [
    {
     "data": {
      "text/plain": [
       "array([ 1.+0.j, -1.+0.j,  1.+0.j, -1.+0.j,  1.+0.j, -1.+0.j,  1.+0.j,\n",
       "       -1.+0.j])"
      ]
     },
     "execution_count": 5,
     "metadata": {},
     "output_type": "execute_result"
    }
   ],
   "source": [
    "# [0,0,0,0,1,0,0,0] produces alternating +1,-1 in fourier space. \n",
    "# if we want to get alternating coeffs, we want to multiply by this is\n",
    "# fourier = convolute in real\n",
    "fft([0,0,0,0,1,0,0,0])"
   ]
  },
  {
   "cell_type": "code",
   "execution_count": 6,
   "metadata": {
    "collapsed": true
   },
   "outputs": [],
   "source": [
    "# So we should shift our top-hat function the middle and we'll see alternating signs?\n",
    "# but that's AFTER raising to the power...\n",
    "# this gives the same results but just rotated...\n",
    "def pascal_row2(n):\n",
    "    x = ([0] * ((n-1)//2)) + [1,1] + [0] * ((n-1)//2)\n",
    "    fx = fft(x)\n",
    "    return ifft(fx ** n).real"
   ]
  },
  {
   "cell_type": "code",
   "execution_count": 7,
   "metadata": {
    "collapsed": false
   },
   "outputs": [
    {
     "name": "stdout",
     "output_type": "stream",
     "text": [
      "[  2.   8.  28.  56.  70.  56.  28.   8.]\n"
     ]
    }
   ],
   "source": [
    "print(pascal_row2(8))"
   ]
  },
  {
   "cell_type": "code",
   "execution_count": 8,
   "metadata": {
    "collapsed": false
   },
   "outputs": [
    {
     "data": {
      "text/plain": [
       "array([ 1.00000000 +0.00000000e+00j,  0.94925302 -2.49800181e-16j,\n",
       "        0.80473785 -3.60822483e-16j,  0.58845562 -3.33066907e-16j,\n",
       "        0.33333333 +0.00000000e+00j,  0.07821105 +1.11022302e-16j,\n",
       "       -0.13807119 +3.88578059e-16j, -0.28258636 +8.32667268e-16j,\n",
       "       -0.33333333 +0.00000000e+00j, -0.28258636 +2.49800181e-16j,\n",
       "       -0.13807119 +3.60822483e-16j,  0.07821105 +3.33066907e-16j,\n",
       "        0.33333333 +0.00000000e+00j,  0.58845562 -1.11022302e-16j,\n",
       "        0.80473785 -3.88578059e-16j,  0.94925302 -8.32667268e-16j])"
      ]
     },
     "execution_count": 8,
     "metadata": {},
     "output_type": "execute_result"
    }
   ],
   "source": [
    "# so what analytically is F[1100..0]?\n",
    "# I think top-hat (centered would be [1100001])\n",
    "# = sin(x) / x?\n",
    "top_hat_fft = fft([1/3., 1/3.] + [0]*13 + [1/3.])\n",
    "top_hat_fft"
   ]
  },
  {
   "cell_type": "code",
   "execution_count": 9,
   "metadata": {
    "collapsed": false
   },
   "outputs": [
    {
     "name": "stderr",
     "output_type": "stream",
     "text": [
      "/Library/Frameworks/Python.framework/Versions/2.7/lib/python2.7/site-packages/numpy-1.7.0-py2.7-macosx-10.6-intel.egg/numpy/core/numeric.py:320: ComplexWarning: Casting complex values to real discards the imaginary part\n",
      "  return array(a, dtype, copy=False, order=order)\n"
     ]
    },
    {
     "data": {
      "text/plain": [
       "[<matplotlib.lines.Line2D at 0x10789d610>,\n",
       " <matplotlib.lines.Line2D at 0x10789d890>]"
      ]
     },
     "execution_count": 9,
     "metadata": {},
     "output_type": "execute_result"
    },
    {
     "data": {
      "image/png": "[encoded data removed]",
      "text/plain": [
       "<matplotlib.figure.Figure at 0x107808510>"
      ]
     },
     "metadata": {},
     "output_type": "display_data"
    }
   ],
   "source": [
    "sinc = lambda x: np.sin(x)/x if x !=0 else 1.0\n",
    "sincd = np.array([sinc(x*np.pi*3) for x in np.fft.fftfreq(16)])\n",
    "sincd\n",
    "#ifft(sincd)\n",
    "plt.plot(zip(top_hat_fft, sincd))"
   ]
  },
  {
   "cell_type": "markdown",
   "metadata": {},
   "source": [
    "Sinc function has first minimum of around -0.2, but we seem to get below that with the top_hat_fft (the blue curve above). So whay is top_hat_fft **NOT** a sinc function. It's close, but no cigar...\n",
    "\n",
    "Is it because we're effectively fourier transforming repeated step functions. What if we evaluate sinc(x +/- nyquist) and add to result? "
   ]
  },
  {
   "cell_type": "markdown",
   "metadata": {},
   "source": [
    "The following works for odd widths:"
   ]
  },
  {
   "cell_type": "code",
   "execution_count": 247,
   "metadata": {
    "collapsed": false
   },
   "outputs": [
    {
     "data": {
      "text/plain": [
       "[<matplotlib.lines.Line2D at 0x11a4d3e90>,\n",
       " <matplotlib.lines.Line2D at 0x11a4e1150>]"
      ]
     },
     "execution_count": 247,
     "metadata": {},
     "output_type": "execute_result"
    },
    {
     "data": {
      "image/png": "[encoded data removed]",
      "text/plain": [
       "<matplotlib.figure.Figure at 0x11a400d50>"
      ]
     },
     "metadata": {},
     "output_type": "display_data"
    }
   ],
   "source": [
    "width = 7\n",
    "num_channels = 16\n",
    "top_hat_fft = fft([1/width] \n",
    "                  + [1/width] * (width//2)\n",
    "                  + [0]*(num_channels - width) \n",
    "                  + [1/width] * (width//2))\n",
    "top_hat_fft\n",
    "\n",
    "def make_tophat_fft(top_hat_width, num_channels, harmonics=1):\n",
    "    sincd = np.array([sinc(x*np.pi*top_hat_width) \n",
    "                      for x in np.fft.fftfreq(num_channels)])\n",
    "    # sinc is symmetric \n",
    "    for harmonic in range(1, harmonics):\n",
    "        for dirn in [-1, 1]:\n",
    "            sincd += [sinc(dirn * x*np.pi*top_hat_width \n",
    "                           + harmonic* np.pi * top_hat_width) \n",
    "                      for x in np.fft.fftfreq(num_channels)]\n",
    "    return sincd\n",
    "# first is blue, second is green!\n",
    "plt.plot(zip(top_hat_fft, make_tophat_fft(width, num_channels)))"
   ]
  },
  {
   "cell_type": "code",
   "execution_count": 345,
   "metadata": {
    "collapsed": false
   },
   "outputs": [
    {
     "data": {
      "text/plain": [
       "[<matplotlib.lines.Line2D at 0x12409f550>]"
      ]
     },
     "execution_count": 345,
     "metadata": {},
     "output_type": "execute_result"
    },
    {
     "data": {
      "image/png": "[encoded data removed]",
      "text/plain": [
       "<matplotlib.figure.Figure at 0x12409f710>"
      ]
     },
     "metadata": {},
     "output_type": "display_data"
    }
   ],
   "source": [
    "# So this works for a centered, odd-width top-hat function. \n",
    "# But we need an uncentered, 2-wide top hat function. We want to shift the top hat, \n",
    "# which means convolution in top-hat space, and multiplication in Pascal space.\n",
    "# Hopefully our make_tophat_fft can give us arbitrary width top-hats, and we \n",
    "# should then just be a multiple away from the pascal line?\n",
    "\n",
    "def make_shifted_tophat_fft(tophat_width, shift, num_channels, harmonics):\n",
    "    return (\n",
    "        np.exp(1j * shift * 2 * np.pi * np.fft.fftfreq(num_channels)) *\n",
    "        make_tophat_fft(tophat_width, num_channels, harmonics) * tophat_width\n",
    "         )\n",
    "\n",
    "def make_shifted_tophat(tophat_width, shift, num_channels, harmonics):\n",
    "    return ifft(make_shifted_tophat_fft(tophat_width, shift, num_channels, harmonics))\n",
    "\n",
    "h=5\n",
    "plt.plot(make_shifted_tophat(1, -0.5, 10, h).real)\n",
    "# make_shifted_tophat works great with odd widths and integer shifts\n",
    "# We actually want width 2 and shift of -0.5, which starts to make it a bit\n",
    "# less exact. Odd;y we get better results without the harmonics here...\n",
    "h = 1\n",
    "plt.plot(make_shifted_tophat(2, -0.5, 10, h).real)\n",
    "plt.plot([1,1] + [0] * 8)"
   ]
  },
  {
   "cell_type": "code",
   "execution_count": 328,
   "metadata": {
    "collapsed": false
   },
   "outputs": [
    {
     "data": {
      "text/plain": [
       "[<matplotlib.lines.Line2D at 0x121ea0390>]"
      ]
     },
     "execution_count": 328,
     "metadata": {},
     "output_type": "execute_result"
    },
    {
     "data": {
      "image/png": "[encoded data removed]",
      "text/plain": [
       "<matplotlib.figure.Figure at 0x121ea0490>"
      ]
     },
     "metadata": {},
     "output_type": "display_data"
    }
   ],
   "source": [
    "#How does make_shifted_tophat_fft(2, -0.5, 10, 1) compare with\n",
    "def tophat_fft(n):\n",
    "    x = [1,1] + [0] * (n-2)\n",
    "    fx = fft(x)\n",
    "    return fx\n",
    "\n",
    "num_channels=10\n",
    "a = tophat_fft(num_channels)\n",
    "h = 9\n",
    "#b = make_shifted_tophat_fft(2.0, -0.5, num_channels, h)\n",
    "b = make_shifted_tophat_fft(2.0, 0, num_channels, h)\n",
    "plt.plot(a.real) # blue\n",
    "plt.plot(b.real)"
   ]
  },
  {
   "cell_type": "code",
   "execution_count": 330,
   "metadata": {
    "collapsed": false
   },
   "outputs": [
    {
     "data": {
      "text/plain": [
       "[<matplotlib.lines.Line2D at 0x121ea08d0>]"
      ]
     },
     "execution_count": 330,
     "metadata": {},
     "output_type": "execute_result"
    },
    {
     "data": {
      "image/png": "[encoded data removed]",
      "text/plain": [
       "<matplotlib.figure.Figure at 0x121ea0b50>"
      ]
     },
     "metadata": {},
     "output_type": "display_data"
    }
   ],
   "source": [
    "# this b seems to get phase very close...\n",
    "h=1\n",
    "b = np.pi * make_shifted_tophat_fft(2.0, -1 / 2 / np.pi, num_channels, h)\n",
    "\n",
    "plt.plot(a.imag) # blue\n",
    "plt.plot(b.imag)"
   ]
  },
  {
   "cell_type": "markdown",
   "metadata": {},
   "source": [
    "We're definitely on the right track here, but the analytical solution is not as clean.."
   ]
  },
  {
   "cell_type": "code",
   "execution_count": 335,
   "metadata": {
    "collapsed": false
   },
   "outputs": [
    {
     "data": {
      "text/plain": [
       "array([ 1.,  2.,  1.])"
      ]
     },
     "execution_count": 335,
     "metadata": {},
     "output_type": "execute_result"
    }
   ],
   "source": [
    "rown = 2\n",
    "h=1\n",
    "ifft(tophat_fft(rown + 1)**rown).real"
   ]
  },
  {
   "cell_type": "code",
   "execution_count": 336,
   "metadata": {
    "collapsed": false
   },
   "outputs": [
    {
     "data": {
      "text/plain": [
       "array([ 1.10536067,  1.78927866,  1.10536067])"
      ]
     },
     "execution_count": 336,
     "metadata": {},
     "output_type": "execute_result"
    }
   ],
   "source": [
    "ifft(make_shifted_tophat_fft(2, -0.5, rown+1, h) ** rown).real"
   ]
  },
  {
   "cell_type": "code",
   "execution_count": 77,
   "metadata": {
    "collapsed": false
   },
   "outputs": [
    {
     "data": {
      "text/plain": [
       "array([  1.99972399e-01 +0.00000000e+00j,\n",
       "         2.00043942e-01 +5.20417043e-17j,\n",
       "         1.99684063e-01 +9.36750677e-17j,\n",
       "         3.14747451e-04 -6.59194921e-17j,\n",
       "        -3.96694244e-05 -6.93889390e-18j,\n",
       "         1.69003180e-05 -1.04083409e-17j,\n",
       "        -1.07240673e-05 -7.28583860e-17j,\n",
       "         8.48860624e-06 -7.97972799e-17j,\n",
       "        -7.89310299e-06 +0.00000000e+00j,\n",
       "         8.48860624e-06 -1.73472348e-17j,\n",
       "        -1.07240673e-05 -8.67361738e-17j,\n",
       "         1.69003180e-05 -5.20417043e-17j,\n",
       "        -3.96694244e-05 +6.93889390e-18j,\n",
       "         3.14747451e-04 -2.42861287e-17j,\n",
       "         1.99684063e-01 +6.59194921e-17j,   2.00043942e-01 +1.97758476e-16j])"
      ]
     },
     "execution_count": 77,
     "metadata": {},
     "output_type": "execute_result"
    }
   ],
   "source": [
    "ifft(sincd)"
   ]
  },
  {
   "cell_type": "markdown",
   "metadata": {},
   "source": [
    "#Fourier Multiplication "
   ]
  },
  {
   "cell_type": "code",
   "execution_count": 154,
   "metadata": {
    "collapsed": false
   },
   "outputs": [],
   "source": [
    "def mult_lists(a, b):\n",
    "    \"\"\"\n",
    "     Multiply the arrays of digits a,b by convolving a with b via a\n",
    "    Fourier transform.\n",
    "    A and b should have units in the first element, then base**1, base**2m etc.\n",
    "    Eg 3,412 would be [2, 1, 4, 3]\n",
    "    \"\"\"\n",
    "    out_size = len(a) + len(b)\n",
    "    a = a + [0] * (out_size - len(a))\n",
    "    b = b + [0] * (out_size - len(b))\n",
    "    f = ifft(fft(a)*fft(b)).real\n",
    "    return f\n",
    "\n",
    "def to_digit_list(num, base=10):\n",
    "    ret = []\n",
    "    while num > 0:\n",
    "        ret.append(num % base)\n",
    "        num //= base\n",
    "    return ret\n",
    "        \n",
    "def from_digit_list(nums, base=10):\n",
    "    return sum(int(round(num)) * base**i for i,num in enumerate(nums))"
   ]
  },
  {
   "cell_type": "code",
   "execution_count": 155,
   "metadata": {
    "collapsed": false
   },
   "outputs": [
    {
     "data": {
      "text/plain": [
       "[9, 1, 2, 1, 2, 1, 1, 2, 1, 2, 1]"
      ]
     },
     "execution_count": 155,
     "metadata": {},
     "output_type": "execute_result"
    }
   ],
   "source": [
    "to_digit_list(12121121219, 10)"
   ]
  },
  {
   "cell_type": "code",
   "execution_count": 178,
   "metadata": {
    "collapsed": false
   },
   "outputs": [],
   "source": [
    "import random\n",
    "\n",
    "def to_digit_list(num, base=10):\n",
    "    ret = []\n",
    "    while num > 0:\n",
    "        ret.append(num % base)\n",
    "        num //= base\n",
    "    return ret\n",
    "        \n",
    "def from_digit_list(nums, base=10):\n",
    "    return sum(int(round(num)) * base**i for i,num in enumerate(nums))\n",
    "\n",
    "def fourier_mult(a, b):\n",
    "    return from_digit_list(mult_lists(to_digit_list(a), to_digit_list(b)))\n",
    "\n",
    "a=random.getrandbits(256)\n",
    "b=random.getrandbits(256)\n",
    "ab = a*b\n",
    "abf = fourier_mult(a, b)\n",
    "assert ab - abf == 0"
   ]
  },
  {
   "cell_type": "code",
   "execution_count": 177,
   "metadata": {
    "collapsed": false
   },
   "outputs": [
    {
     "ename": "TypeError",
     "evalue": "only length-1 arrays can be converted to Python scalars",
     "output_type": "error",
     "traceback": [
      "\u001b[0;31m---------------------------------------------------------------------------\u001b[0m",
      "\u001b[0;31mTypeError\u001b[0m                                 Traceback (most recent call last)",
      "\u001b[0;32m<ipython-input-177-f9a89589623c>\u001b[0m in \u001b[0;36m<module>\u001b[0;34m()\u001b[0m\n\u001b[1;32m      1\u001b[0m \u001b[0;32mimport\u001b[0m \u001b[0mrandom\u001b[0m\u001b[0;34m\u001b[0m\u001b[0m\n\u001b[0;32m----> 2\u001b[0;31m \u001b[0mlong\u001b[0m\u001b[0;34m(\u001b[0m\u001b[0mnp\u001b[0m\u001b[0;34m.\u001b[0m\u001b[0mrandom\u001b[0m\u001b[0;34m.\u001b[0m\u001b[0mrandom\u001b[0m\u001b[0;34m(\u001b[0m\u001b[0;36m30\u001b[0m\u001b[0;34m)\u001b[0m\u001b[0;34m)\u001b[0m\u001b[0;34m\u001b[0m\u001b[0m\n\u001b[0m",
      "\u001b[0;31mTypeError\u001b[0m: only length-1 arrays can be converted to Python scalars"
     ]
    }
   ],
   "source": [
    "import random\n",
    "long(np.random.random(30))"
   ]
  },
  {
   "cell_type": "code",
   "execution_count": 162,
   "metadata": {
    "collapsed": false
   },
   "outputs": [
    {
     "data": {
      "text/plain": [
       "251974217330697881331828676360296183712923143970808142327222L"
      ]
     },
     "execution_count": 162,
     "metadata": {},
     "output_type": "execute_result"
    }
   ],
   "source": [
    "import math\n",
    "random.getrandbits(200)"
   ]
  },
  {
   "cell_type": "code",
   "execution_count": 137,
   "metadata": {
    "collapsed": true
   },
   "outputs": [],
   "source": [
    "def choose(n,r):\n",
    "    return math.factorial(n)/math.factorial(r)/math.factorial(n-r)"
   ]
  },
  {
   "cell_type": "code",
   "execution_count": 142,
   "metadata": {
    "collapsed": false
   },
   "outputs": [],
   "source": [
    "def pascal_row_exact(n):\n",
    "    return [choose(n,m) for m in range(n+1)]"
   ]
  },
  {
   "cell_type": "code",
   "execution_count": 153,
   "metadata": {
    "collapsed": false
   },
   "outputs": [
    {
     "data": {
      "text/plain": [
       "[(0, -1.0),\n",
       " (1, 0.0),\n",
       " (2, 0.0),\n",
       " (3, 0.0),\n",
       " (4, 0.0),\n",
       " (5, 0.0),\n",
       " (6, 0.0),\n",
       " (7, 0.0),\n",
       " (8, 0.0),\n",
       " (9, 0.0),\n",
       " (10, 0.0),\n",
       " (11, 0.0),\n",
       " (12, 0.0),\n",
       " (13, 0.0),\n",
       " (14, 0.0),\n",
       " (15, 0.0),\n",
       " (16, 0.0),\n",
       " (17, 0.0),\n",
       " (18, 0.0),\n",
       " (19, 0.0),\n",
       " (20, 0.0),\n",
       " (21, 0.0),\n",
       " (22, 0.0),\n",
       " (23, 0.0),\n",
       " (24, 0.0),\n",
       " (25, 0.0),\n",
       " (26, 0.0),\n",
       " (27, 0.0),\n",
       " (28, 0.0),\n",
       " (29, 0.0),\n",
       " (30, 0.0),\n",
       " (31, 0.0),\n",
       " (32, 0.0),\n",
       " (33, 0.0),\n",
       " (34, 0.0),\n",
       " (35, 0.0),\n",
       " (36, 0.0),\n",
       " (37, 0.0),\n",
       " (38, 0.0),\n",
       " (39, 0.0),\n",
       " (40, 0.0),\n",
       " (41, 0.0),\n",
       " (42, 0.0),\n",
       " (43, 0.0),\n",
       " (44, 0.0),\n",
       " (45, 0.0),\n",
       " (46, 0.0),\n",
       " (47, 0.0),\n",
       " (48, 0.0),\n",
       " (49, 0.0),\n",
       " (50, 2.0),\n",
       " (51, -2.0),\n",
       " (52, 6.0),\n",
       " (53, 3.0),\n",
       " (54, 30.0),\n",
       " (55, 48.0),\n",
       " (56, 111.0),\n",
       " (57, 251.0),\n",
       " (58, 557.0),\n",
       " (59, -56.0),\n",
       " (60, 2390.0),\n",
       " (61, 3658.0),\n",
       " (62, 6933.0),\n",
       " (63, -96.0),\n",
       " (64, 30886.0),\n",
       " (65, 61581.0),\n",
       " (66, 149612.0),\n",
       " (67, 272077.0),\n",
       " (68, 608443.0),\n",
       " (69, 863310.0),\n",
       " (70, 2460744.0),\n",
       " (71, -100155.0),\n",
       " (72, 7881842.0),\n",
       " (73, 20541271.0),\n",
       " (74, 550893.0),\n",
       " (75, 73517480.0),\n",
       " (76, 147137449.0),\n",
       " (77, 294248690.0),\n",
       " (78, 634531493.0),\n",
       " (79, -16434774.0),\n",
       " (80, -142104699.0),\n",
       " (81, 5404209766.0),\n",
       " (82, 10777083586.0),\n",
       " (83, 14792693893.0),\n",
       " (84, 37189036509.0),\n",
       " (85, 85317386738.0),\n",
       " (86, 158965672313.0),\n",
       " (87, 288851208173.0),\n",
       " (88, 592467931536.0),\n",
       " (89, 27552275768.0),\n",
       " (90, 2157155443501.0),\n",
       " (91, 5074374199556.0),\n",
       " (92, 10273771864214.0),\n",
       " (93, 22765238493894.0),\n",
       " (94, 29511799937405.0),\n",
       " (95, -1771812193276.0),\n",
       " (96, 131790989946082.0),\n",
       " (97, 248290077157565.0),\n",
       " (98, 445183305262510.0),\n",
       " (99, 63420939083649.0),\n",
       " (100, 4463226511343514.0),\n",
       " (101, 1.3639725402832472e+16),\n",
       " (102, -3.570060248136159e+16),\n",
       " (103, -5.259292520584132e+16),\n",
       " (104, -6.767232454202233e+16),\n",
       " (105, -5.123076190522132e+16),\n",
       " (106, 5.230512355249476e+16),\n",
       " (107, 7.076875487663175e+16),\n",
       " (108, 1.5160727545409283e+18),\n",
       " (109, 3.896940316135477e+18),\n",
       " (110, -7.880226657789848e+18),\n",
       " (111, -1.1954655489562778e+19),\n",
       " (112, -1.2128249858021659e+19),\n",
       " (113, -9.225991984481436e+18),\n",
       " (114, 2.6015000033509224e+19),\n",
       " (115, 1.358315342316776e+20),\n",
       " (116, 4.03426054076513e+20),\n",
       " (117, -1.1174262379660597e+21),\n",
       " (118, -1.8421837846649588e+21),\n",
       " (119, -3.7061529627710917e+21),\n",
       " (120, -2.284769117622775e+21),\n",
       " (121, 1.8862817828516436e+21),\n",
       " (122, 1.271755072362467e+22),\n",
       " (123, 4.053374087196351e+22),\n",
       " (124, 8.112943634429503e+22),\n",
       " (125, -2.9414195982628384e+23),\n",
       " (126, -3.7365520025661445e+23),\n",
       " (127, -8.236777223019506e+23),\n",
       " (128, -3.065381248330879e+23),\n",
       " (129, 4.6123360164268874e+23),\n",
       " (130, 3.984567204046783e+24),\n",
       " (131, 1.2508749027948922e+25),\n",
       " (132, -4.199450360945771e+25),\n",
       " (133, -5.96869946740962e+25),\n",
       " (134, -1.2988606770926908e+26),\n",
       " (135, -8.680442266330688e+25),\n",
       " (136, 2.4779685024648876e+25),\n",
       " (137, 3.467887882314009e+26),\n",
       " (138, 1.285509104471975e+27),\n",
       " (139, 3.491691371433857e+27),\n",
       " (140, -8.990517213770326e+27),\n",
       " (141, -1.2602090842607418e+28),\n",
       " (142, -2.130105906329755e+28),\n",
       " (143, -3.868661662932456e+28),\n",
       " (144, 1.6844876210956545e+28),\n",
       " (145, 9.450269315678799e+28),\n",
       " (146, 3.692449319701614e+29),\n",
       " (147, -1.3769885834875606e+30),\n",
       " (148, -2.1861602371230172e+30),\n",
       " (149, -4.5124371845171554e+30)]"
      ]
     },
     "execution_count": 153,
     "metadata": {},
     "output_type": "execute_result"
    }
   ],
   "source": [
    "[(n, sum(pascal_row(n) - pascal_row_exact(n))) for n in range(150)]"
   ]
  },
  {
   "cell_type": "code",
   "execution_count": null,
   "metadata": {
    "collapsed": true
   },
   "outputs": [],
   "source": []
  }
 ],
 "metadata": {
  "kernelspec": {
   "display_name": "Python 2",
   "language": "python",
   "name": "python2"
  },
  "language_info": {
   "codemirror_mode": {
    "name": "ipython",
    "version": 2
   },
   "file_extension": ".py",
   "mimetype": "text/x-python",
   "name": "python",
   "nbconvert_exporter": "python",
   "pygments_lexer": "ipython2",
   "version": "2.7.8"
  }
 },
 "nbformat": 4,
 "nbformat_minor": 0
}
